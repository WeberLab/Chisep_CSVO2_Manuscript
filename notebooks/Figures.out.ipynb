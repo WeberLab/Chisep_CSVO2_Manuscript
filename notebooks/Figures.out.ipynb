{
 "cells": [
  {
   "cell_type": "markdown",
   "metadata": {},
   "source": [
    "# Python Figures"
   ],
   "id": "5212aef0-4686-45e5-8543-9afa80f31aa0"
  },
  {
   "cell_type": "markdown",
   "metadata": {},
   "source": [],
   "id": "5c98847c-0edc-49cf-b80e-a585e9833c0b"
  },
  {
   "cell_type": "code",
   "execution_count": 1,
   "metadata": {},
   "outputs": [],
   "source": [
    "import nilearn as nl # nilearn for loading nifti\n",
    "import os\n",
    "import matplotlib.pyplot as plt\n",
    "import matplotlib.ticker as ticker\n",
    "import numpy as np\n",
    "import nibabel as nib # nibable: loading nifti\n",
    "from nilearn import plotting # nilearn plotting\n",
    "from matplotlib.colors import ListedColormap # custom colormaps\n",
    "import graphviz # graph\n",
    "from PIL import Image # image resizing"
   ],
   "id": "6a38c751-cf17-42fb-ae38-2039caca4fed"
  },
  {
   "cell_type": "code",
   "execution_count": 2,
   "metadata": {},
   "outputs": [],
   "source": [
    "figpath='/home/weberam2/Dropbox/AssistantProf_BCCHRI/Projects/Gavin_CSVO2/Quarto_Chisep_CSVO2_Manuscript/images/'"
   ],
   "id": "2df0bc53-f7ef-4bcb-8a21-90e60bd23489"
  },
  {
   "cell_type": "code",
   "execution_count": 3,
   "metadata": {},
   "outputs": [],
   "source": [
    "def apply_slice_cut_to_nifti(nii_gz_path, slice_cut):\n",
    "    \"\"\"\n",
    "    Load a NIfTI image, apply a slice cut to extract a subregion, and return a new NIfTI image.\n",
    "\n",
    "    Parameters:\n",
    "    - nii_gz_path (str): Path to the input NIfTI (.nii.gz) file.\n",
    "    - slice_cut (list): Slice cut specification in the form [slice_x, slice_y, slice_z].\n",
    "\n",
    "    Returns:\n",
    "    - nibabel.Nifti1Image: New NIfTI image object containing the extracted subregion.\n",
    "    \"\"\"\n",
    "    # Load the NIfTI image\n",
    "    nii_img = nib.load(nii_gz_path)\n",
    "    nii_data = nii_img.get_fdata()\n",
    "\n",
    "    # Extract the subregion using the slice cut\n",
    "    slice_x, slice_y, slice_z = slice_cut\n",
    "    subregion_data = nii_data[slice_x, slice_y, slice_z]\n",
    "\n",
    "    # Create a new NIfTI image with the extracted subregion and original affine matrix\n",
    "    subregion_img = nib.Nifti1Image(subregion_data, nii_img.affine)\n",
    "\n",
    "    return subregion_img"
   ],
   "id": "3747a1d4-a7bb-45d0-b601-40aed93431da"
  },
  {
   "cell_type": "code",
   "execution_count": 4,
   "metadata": {},
   "outputs": [],
   "source": [
    "basepath='/home/weberam2/Dropbox/AssistantProf_BCCHRI/Projects/Gavin_CSVO2/Data/'"
   ],
   "id": "bfbeecb1-d8c9-4309-a613-7f2b8e380f72"
  },
  {
   "cell_type": "code",
   "execution_count": 5,
   "metadata": {},
   "outputs": [],
   "source": [
    "slice_cut = [slice(60, 190), slice(50, 200), slice(None)]  # Define the slice cut [x, y, z]"
   ],
   "id": "3f0bf5a6-c798-4129-9364-d496712d89a9"
  },
  {
   "cell_type": "code",
   "execution_count": 6,
   "metadata": {},
   "outputs": [],
   "source": [
    "\n",
    "\n",
    "nii_gz_relpath = 'QSM_SSS/qsm/sub-AMWCER18/mag_echo1.nii.gz'\n",
    "nii_gz_path = basepath + nii_gz_relpath\n",
    "\n",
    "mag = apply_slice_cut_to_nifti(nii_gz_path, slice_cut)\n",
    "\n",
    "#plotting.plot_anat(anat_img=mag) #testing"
   ],
   "id": "98e3f693-5c59-4f22-a221-0775886aa4fc"
  },
  {
   "cell_type": "code",
   "execution_count": 7,
   "metadata": {},
   "outputs": [],
   "source": [
    "nii_gz_relpath = 'QSM_SSS/calc_chi/sub-AMWCER18/STISuite_Last3Echos/S001_QSM_star.nii.gz'\n",
    "nii_gz_path = basepath + nii_gz_relpath\n",
    "\n",
    "qsm = apply_slice_cut_to_nifti(nii_gz_path, slice_cut)"
   ],
   "id": "62406a97-bd7e-419b-91e3-e7c2e8432d7a"
  },
  {
   "cell_type": "code",
   "execution_count": 8,
   "metadata": {},
   "outputs": [],
   "source": [
    "nii_gz_relpath = 'Chi_sep/sub-AMWCER18/x_pos_SA_finalmask.nii'\n",
    "nii_gz_path = basepath + nii_gz_relpath\n",
    "\n",
    "parachi = apply_slice_cut_to_nifti(nii_gz_path, slice_cut)"
   ],
   "id": "da238fc5-33e2-4400-9de7-2c451d7d7724"
  },
  {
   "cell_type": "code",
   "execution_count": 9,
   "metadata": {},
   "outputs": [
    {
     "output_type": "display_data",
     "metadata": {},
     "data": {}
    }
   ],
   "source": [
    "cut_coords_qsm = (64,42,51)\n",
    "\n",
    "# Set the number of rows and columns for the subplot grid\n",
    "num_rows = 3\n",
    "num_cols = 1\n",
    "\n",
    "figsize=(10, 12)\n",
    "fig = plt.figure(figsize=figsize)\n",
    "gs = fig.add_gridspec(nrows=num_rows, ncols=num_cols, height_ratios=[1, 1, 1])\n",
    "# Add subplots based on gridspec\n",
    "ax1 = fig.add_subplot(gs[0,0])  # First subplot (top row)\n",
    "ax2 = fig.add_subplot(gs[1,0])  # Second subplot (bottom row)\n",
    "ax3 = fig.add_subplot(gs[2,0])  # Third subplot (bottom row, first column)\n",
    "\n",
    "vmin, vmax = np.percentile(mag.get_fdata(), (2, 99.9))\n",
    "plotting.plot_anat(anat_img=mag,\n",
    "                      black_bg = False,\n",
    "                      draw_cross=False, \n",
    "                      vmin=vmin, vmax=vmax, \n",
    "                      annotate=True, axes=ax1,\n",
    "                  colorbar = False,\n",
    "                  )\n",
    "\n",
    "plotting.plot_anat(anat_img=qsm,\n",
    "                   black_bg = False,\n",
    "                      draw_cross=False, \n",
    "                      vmin=-0.2, vmax=0.2, \n",
    "                      annotate=True, axes=ax2,\n",
    "                   colorbar= True,\n",
    "                   cut_coords=cut_coords_qsm\n",
    "                  )\n",
    "\n",
    "plotting.plot_anat(anat_img=parachi,\n",
    "                   black_bg = False,\n",
    "                      draw_cross=False, \n",
    "                      vmin=0, vmax=0.2, \n",
    "                      annotate=True, axes=ax3,\n",
    "                   colorbar= True,\n",
    "                   cut_coords=cut_coords_qsm\n",
    "                  )\n",
    "fontsize=16\n",
    "xoffset=-0.05\n",
    "yoffset=1.05\n",
    "# Add label \"A\" to the first subplot\n",
    "ax1.text(xoffset, yoffset, 'A', transform=ax1.transAxes,\n",
    "             fontsize=fontsize, fontweight='bold', va='top', ha='right')\n",
    "\n",
    "ax2.text(xoffset, yoffset, 'B', transform=ax2.transAxes,\n",
    "             fontsize=fontsize, fontweight='bold', va='top', ha='right')\n",
    "\n",
    "ax3.text(xoffset, yoffset, 'C', transform=ax3.transAxes,\n",
    "         fontsize=fontsize, fontweight='bold', va='top', ha='right') \n",
    "\n",
    "plt.savefig(figpath + \"SampleImages.png\", dpi=300, bbox_inches=\"tight\")\n",
    "\n",
    "plt.show()\n"
   ],
   "id": "cell-fig-sample"
  },
  {
   "cell_type": "code",
   "execution_count": 10,
   "metadata": {},
   "outputs": [],
   "source": [
    "def plot_and_save_nifti_slice(nii_gz_path, slice_cut, single_slice_cut, figsize, out_path, cmap):\n",
    "    \"\"\"\n",
    "    Load a NIfTI image, apply slice cuts, extract a single slice, plot the slice, and save as a PNG file.\n",
    "\n",
    "    Parameters:\n",
    "    - nii_gz_path (str): Path to the input NIfTI (.nii.gz) file.\n",
    "    - slice_cut (list): Slice cut specification in the form [slice_x, slice_y, slice_z].\n",
    "    - single_slice_cut (tuple): Single slice specification for extraction (e.g., [54, :, :]).\n",
    "    - figsize (tuple): Figure size in inches (width, height).\n",
    "    - mask_path (str): Path to save the PNG file.\n",
    "    - cmap (str or matplotlib.colors.Colormap): Colormap for the plot.\n",
    "\n",
    "    Returns:\n",
    "    - str: Path to the saved PNG file.\n",
    "    \"\"\"\n",
    "    # Load the NIfTI image\n",
    "    nii_img = nib.load(nii_gz_path)\n",
    "    nii_data = nii_img.get_fdata()\n",
    "\n",
    "    # Apply slice cuts to extract a subregion\n",
    "    if len(slice_cut) == 3:  # For 3D data [slice_x, slice_y, slice_z]\n",
    "        subregion_data = nii_data[slice_cut[0], slice_cut[1], slice_cut[2]]\n",
    "    elif len(slice_cut) == 4:  # For 4D data [slice_x, slice_y, slice_z, slice_t]\n",
    "        subregion_data = nii_data[slice_cut[0], slice_cut[1], slice_cut[2], slice_cut[3]]\n",
    "\n",
    "    # Extract a single slice\n",
    "    single_slice_data = subregion_data[single_slice_cut]\n",
    "\n",
    "    # Create a new figure with the specified figsize\n",
    "    plt.figure(figsize=figsize)\n",
    "\n",
    "    # Display the single slice with the specified colormap\n",
    "    plt.imshow(single_slice_data.T, cmap=cmap, origin='lower')\n",
    "\n",
    "    # Remove x-axis and y-axis ticks\n",
    "    plt.xticks([])\n",
    "    plt.yticks([])\n",
    "\n",
    "    # Save the plot as a PNG file\n",
    "    plt.savefig(out_path, dpi=300, bbox_inches=\"tight\", pad_inches=0)\n",
    "\n",
    "    # Show the plot (optional)\n",
    "    plt.show()\n",
    "\n",
    "    # Return the path to the saved PNG file\n",
    "    return out_path"
   ],
   "id": "57c2188a-4d20-4837-a35e-7d0b97f0b90c"
  },
  {
   "cell_type": "code",
   "execution_count": 11,
   "metadata": {},
   "outputs": [],
   "source": [
    "# nii_gz_relpath = 'QSM_SSS/calc_chi/sub-AMWCER18/STISuite_Last3Echos/mag_echo5.nii.gz'\n",
    "# nii_gz_path = basepath + nii_gz_relpath\n",
    "\n",
    "# magechofive_path=\"magecho5.png\"\n",
    "# out_path=figpath + initialmask_path\n",
    "\n",
    "# plot_and_save_nifti_slice(nii_gz_path, slice_cut, single_slice_cut, figsize, out_path, cmap)"
   ],
   "id": "04a7f85e-b4c8-4a5c-a854-86c91fb9c751"
  },
  {
   "cell_type": "code",
   "execution_count": 12,
   "metadata": {},
   "outputs": [
    {
     "output_type": "display_data",
     "metadata": {},
     "data": {
      "text/plain": [
       "'/home/weberam2/Dropbox/AssistantProf_BCCHRI/Projects/Gavin_CSVO2/Data/'"
      ]
     }
    }
   ],
   "source": [
    "basepath"
   ],
   "id": "9b1880f9-aa97-4191-a577-1630aa709486"
  },
  {
   "cell_type": "code",
   "execution_count": 13,
   "metadata": {},
   "outputs": [
    {
     "output_type": "display_data",
     "metadata": {},
     "data": {
      "image/png": "[encoded data removed]"
     }
    },
    {
     "output_type": "display_data",
     "metadata": {},
     "data": {
      "text/plain": [
       "'/home/weberam2/Dropbox/AssistantProf_BCCHRI/Projects/Gavin_CSVO2/Quarto_Chisep_CSVO2_Manuscript/images/magecho5.png'"
      ]
     }
    }
   ],
   "source": [
    "nii_gz_relpath = 'QSM_SSS/calc_chi/sub-AMWCER18/STISuite_Last3Echos/mag_echo5.nii.gz'\n",
    "nii_gz_path = basepath + nii_gz_relpath\n",
    "\n",
    "single_slice_cut = (62, slice(None), slice(None))\n",
    "figsize=(8, 8)\n",
    "cmap= 'gray'\n",
    "\n",
    "magechofive_path=\"magecho5.png\"\n",
    "out_path=figpath + magechofive_path\n",
    "\n",
    "plot_and_save_nifti_slice(nii_gz_path, slice_cut, single_slice_cut, figsize, out_path, cmap)"
   ],
   "id": "38236b99-cb70-4b78-8eed-ae0df81b164e"
  },
  {
   "cell_type": "code",
   "execution_count": 14,
   "metadata": {},
   "outputs": [
    {
     "output_type": "display_data",
     "metadata": {},
     "data": {
      "image/png": "[encoded data removed]"
     }
    },
    {
     "output_type": "display_data",
     "metadata": {},
     "data": {
      "text/plain": [
       "'/home/weberam2/Dropbox/AssistantProf_BCCHRI/Projects/Gavin_CSVO2/Quarto_Chisep_CSVO2_Manuscript/images/InitialMask.png'"
      ]
     }
    }
   ],
   "source": [
    "nii_gz_relpath = 'QSM_SSS/calc_chi/sub-AMWCER18/STISuite_Last3Echos/mag_echo5_sqr_brain_mask.nii.gz'\n",
    "nii_gz_path = basepath + nii_gz_relpath\n",
    "\n",
    "initialmask_path=\"InitialMask.png\"\n",
    "out_path=figpath + initialmask_path\n",
    "\n",
    "plot_and_save_nifti_slice(nii_gz_path, slice_cut, single_slice_cut, figsize, out_path, cmap)"
   ],
   "id": "96f9f444-d96d-4fbe-a384-048460911695"
  },
  {
   "cell_type": "code",
   "execution_count": 15,
   "metadata": {},
   "outputs": [
    {
     "output_type": "display_data",
     "metadata": {},
     "data": {
      "image/png": "[encoded data removed]"
     }
    },
    {
     "output_type": "display_data",
     "metadata": {},
     "data": {
      "text/plain": [
       "'/home/weberam2/Dropbox/AssistantProf_BCCHRI/Projects/Gavin_CSVO2/Quarto_Chisep_CSVO2_Manuscript/images/DilatedMask.png'"
      ]
     }
    }
   ],
   "source": [
    "nii_gz_relpath = 'QSM_SSS/calc_chi/sub-AMWCER18/STISuite_Last3Echos/dil7_echo5mask.nii.gz'\n",
    "nii_gz_path = basepath + nii_gz_relpath\n",
    "\n",
    "dilatedmask_path=\"DilatedMask.png\"\n",
    "out_path=figpath + dilatedmask_path\n",
    "\n",
    "plot_and_save_nifti_slice(nii_gz_path, slice_cut, single_slice_cut, figsize, out_path, cmap)"
   ],
   "id": "972242c6-d0bf-46b4-ad60-36b3e935ecd3"
  },
  {
   "cell_type": "code",
   "execution_count": 16,
   "metadata": {},
   "outputs": [
    {
     "output_type": "display_data",
     "metadata": {},
     "data": {
      "image/png": "[encoded data removed]"
     }
    },
    {
     "output_type": "display_data",
     "metadata": {},
     "data": {
      "text/plain": [
       "'/home/weberam2/Dropbox/AssistantProf_BCCHRI/Projects/Gavin_CSVO2/Quarto_Chisep_CSVO2_Manuscript/images/ChiDilated.png'"
      ]
     }
    }
   ],
   "source": [
    "fourD_slice_cut = [slice(60, 190), slice(50, 200), slice(None), 1]\n",
    "nii_gz_relpath = 'QSM_SSS/calc_chi/sub-AMWCER18/STISuite_Last3Echos/chi_dil7_echo5.nii.gz'\n",
    "nii_gz_path = basepath + nii_gz_relpath\n",
    "\n",
    "chidil_path=\"ChiDilated.png\"\n",
    "out_path=figpath + chidil_path\n",
    "\n",
    "plot_and_save_nifti_slice(nii_gz_path, fourD_slice_cut, single_slice_cut, figsize, out_path, cmap)"
   ],
   "id": "879be4fa-9a09-4064-8b8f-8890b6268365"
  },
  {
   "cell_type": "code",
   "execution_count": 17,
   "metadata": {},
   "outputs": [
    {
     "output_type": "display_data",
     "metadata": {},
     "data": {
      "image/png": "[encoded data removed]"
     }
    },
    {
     "output_type": "display_data",
     "metadata": {},
     "data": {
      "text/plain": [
       "'/home/weberam2/Dropbox/AssistantProf_BCCHRI/Projects/Gavin_CSVO2/Quarto_Chisep_CSVO2_Manuscript/images/SSSMask.png'"
      ]
     }
    }
   ],
   "source": [
    "\n",
    "colors = ['black', 'red']\n",
    "custom_cmap = ListedColormap(colors)\n",
    "\n",
    "nii_gz_relpath = 'QSM_SSS/calc_chi/sub-AMWCER18/STISuite_Last3Echos/sss_dil7_echo5_mask.nii.gz'\n",
    "nii_gz_path = basepath + nii_gz_relpath\n",
    "\n",
    "sssmask_path=\"SSSMask.png\"\n",
    "out_path=figpath + sssmask_path\n",
    "\n",
    "plot_and_save_nifti_slice(nii_gz_path, slice_cut, single_slice_cut, figsize, out_path, custom_cmap)"
   ],
   "id": "035da911-c6af-4858-b43a-7ecfb8af54dc"
  },
  {
   "cell_type": "code",
   "execution_count": 18,
   "metadata": {},
   "outputs": [
    {
     "output_type": "display_data",
     "metadata": {},
     "data": {
      "image/png": "[encoded data removed]"
     }
    }
   ],
   "source": [
    "nii_gz_path=basepath+'QSM_SSS/calc_chi/sub-AMWCER18/STISuite_Last3Echos/sss_dil7_echo5_mask.nii.gz'\n",
    "\n",
    "# Load the NIfTI image\n",
    "nii_img = nib.load(nii_gz_path)\n",
    "nii_data = nii_img.get_fdata()\n",
    "\n",
    "# Extract a single slice\n",
    "subregion_data = nii_data[slice_cut[0], slice_cut[1], slice_cut[2]]\n",
    "single_slice_data = subregion_data[single_slice_cut]\n",
    "\n",
    "# Create a new figure with the specified figsize\n",
    "plt.figure(figsize=figsize)\n",
    "\n",
    "colors = ['black', 'red']\n",
    "custom_cmap = ListedColormap(colors)\n",
    "\n",
    "# Display the single slice with the specified colormap\n",
    "plt.imshow(single_slice_data.T, cmap=custom_cmap, origin='lower')\n",
    "\n",
    "nii_gz_path=basepath+'QSM_SSS/calc_chi/sub-AMWCER18/STISuite_Last3Echos/mag_echo5_sqr_brain_mask.nii.gz'\n",
    "\n",
    "# Load the NIfTI image\n",
    "nii_img = nib.load(nii_gz_path)\n",
    "nii_data = nii_img.get_fdata()\n",
    "\n",
    "subregion_data = nii_data[slice_cut[0], slice_cut[1], slice_cut[2]]\n",
    "\n",
    "# Extract a single slice\n",
    "single_slice_data2 = subregion_data[single_slice_cut]\n",
    "mycmap = plt.cm.gray\n",
    "mycmap.set_bad(alpha=0)\n",
    "plt.imshow(single_slice_data2.T, cmap='gray', alpha=single_slice_data2.T, origin='lower', interpolation='none')\n",
    "\n",
    "# Remove x-axis and y-axis ticks\n",
    "plt.xticks([])\n",
    "plt.yticks([])\n",
    "\n",
    "finalmask_name=\"finalmask.png\"\n",
    "finalmask_path=figpath+finalmask_name\n",
    "# Save the plot as a PNG file\n",
    "plt.savefig(finalmask_path, dpi=300, bbox_inches=\"tight\", pad_inches=0)\n",
    "\n",
    "# Show the plot (optional)\n",
    "plt.show()\n"
   ],
   "id": "e43cb9e7-75ea-496c-b262-e4344cd9befb"
  },
  {
   "cell_type": "code",
   "execution_count": 19,
   "metadata": {},
   "outputs": [],
   "source": [
    "\n",
    "def resize_image_to_png(original_path, resize_percent, output_png_name):\n",
    "    \"\"\"\n",
    "    Resize an image file and save it as a PNG file.\n",
    "\n",
    "    Parameters:\n",
    "    - sssmask_path (str): Path to the input image file.\n",
    "    - resize_percent (float): Percentage by which to resize the image (e.g., 30 for 30%).\n",
    "    - output_png_name (str): Desired name for the output PNG file (without the file extension).\n",
    "\n",
    "    Returns:\n",
    "    - str: Path to the saved PNG file.\n",
    "    \"\"\"\n",
    "    # Load the image using Pillow\n",
    "    img = Image.open(original_path)\n",
    "\n",
    "    # Get the original width and height\n",
    "    original_width, original_height = img.size\n",
    "\n",
    "    # Calculate the new dimensions based on the percentage\n",
    "    new_width = int(original_width * (resize_percent / 100))\n",
    "    new_height = int(original_height * (resize_percent / 100))\n",
    "\n",
    "    # Resize the image\n",
    "    resized_img = img.resize((new_width, new_height))\n",
    "\n",
    "    # Set the output file path for the resized image\n",
    "    output_png_path = f\"{output_png_name}.png\"\n",
    "\n",
    "    # Save the resized image as a PNG file\n",
    "    resized_img.save(output_png_path)\n",
    "\n",
    "    # Return the path to the saved PNG file\n",
    "    return output_png_path"
   ],
   "id": "84f629c5-0d75-4527-bc9d-adcf02a0e631"
  },
  {
   "cell_type": "code",
   "execution_count": 23,
   "metadata": {},
   "outputs": [
    {
     "output_type": "display_data",
     "metadata": {},
     "data": {}
    }
   ],
   "source": [
    "# Create a new graph\n",
    "graph = graphviz.Graph(engine='neato')\n",
    "\n",
    "# Add nodes with text and images\n",
    "#graph.node('A', 'NifTI image file', shape='box', pos='0,0!')\n",
    "\n",
    "resized_mag5_path = resize_image_to_png(figpath + magechofive_path, 30, figpath + \"initialmag5_resized\")\n",
    "node_a_label = f'<<TABLE BORDER=\"0\" CELLBORDER=\"0\" CELLPADDING=\"1\" CELLSPACING=\"0\"><TR><TD><IMG SRC=\"{resized_mag5_path}\" /></TD></TR><TR><TD ALIGN=\"CENTER\">SWI magnitude, 5th echo</TD></TR></TABLE>>'\n",
    "graph.node('A', label=node_a_label, shape='none', pos='0,0!')\n",
    "\n",
    "graph.node('B', 'Create initial \\nbrain mask', shape='ellipse', pos='2.5,0!')\n",
    "graph.node('1', f'<<b>1</b>>', shape='none', pos='1.5,.3!')\n",
    "\n",
    "resized_mask_path = resize_image_to_png(figpath + initialmask_path, 30, figpath + \"initialmask_resized\")\n",
    "node_c_label = f'<<TABLE BORDER=\"0\" CELLBORDER=\"0\" CELLPADDING=\"1\" CELLSPACING=\"0\"><TR><TD><IMG SRC=\"{resized_mask_path}\" /></TD></TR><TR><TD ALIGN=\"CENTER\">Brain mask</TD></TR></TABLE>>'\n",
    "graph.node('C', label=node_c_label, shape='none', pos='5,0!')\n",
    "\n",
    "graph.node('D', 'Dilate', shape='ellipse', pos='6.7,0!')\n",
    "graph.node('2', f'<<b>2</b>>', shape='none', pos='6.3,.3!')\n",
    "\n",
    "dilmaskresized_image_path = resize_image_to_png(figpath + dilatedmask_path, 30, figpath + \"dilmask_resized\")\n",
    "node_e_label = f'<<TABLE BORDER=\"0\" CELLBORDER=\"0\" CELLPADDING=\"1\" CELLSPACING=\"0\"><TR><TD><IMG SRC=\"{dilmaskresized_image_path}\"/></TD></TR><TR><TD ALIGN=\"CENTER\">Dilated brain mask</TD></TR></TABLE>>'\n",
    "graph.node('E', label=node_e_label, shape='none', pos='8.5,0!')\n",
    "\n",
    "graph.node('F', 'Calculate QSM with \\ndilated mask', shape='ellipse', pos='8.5,-1.7!')\n",
    "graph.node('3', f'<<b>3</b>>', shape='none', pos='7.3,-1.3!')\n",
    "\n",
    "dilchiresized_image_path = resize_image_to_png(figpath + chidil_path, 30, figpath + 'dilchi_resized')\n",
    "node_e_label = f'<<TABLE BORDER=\"0\" CELLBORDER=\"0\" CELLPADDING=\"1\" CELLSPACING=\"0\"><TR><TD><IMG SRC=\"{dilchiresized_image_path}\"/></TD></TR><TR><TD ALIGN=\"CENTER\">Dilated QSM image</TD></TR></TABLE>>'\n",
    "graph.node('G', label=node_e_label, shape='none', pos='8.5,-3.4!')\n",
    "\n",
    "graph.node('H', 'SSS segmentation',  shape='ellipse', pos='8.5,-5!')\n",
    "graph.node('4', f'<<b>4</b>>', shape='none', pos='7.3,-4.75!')\n",
    "\n",
    "sssmaskresized_image_path = resize_image_to_png(figpath + sssmask_path, 30, figpath + 'sssmask_resized')\n",
    "node_i_label = f'<<TABLE BORDER=\"0\" CELLBORDER=\"0\" CELLPADDING=\"1\" CELLSPACING=\"0\"><TR><TD><IMG SRC=\"{sssmaskresized_image_path}\"/></TD></TR><TR><TD ALIGN=\"CENTER\">SSS mask</TD></TR></TABLE>>'\n",
    "graph.node('I', label=node_i_label, shape='none', pos='5,-5!')\n",
    "\n",
    "graph.node('J', 'Combine masks',  shape='ellipse', pos='5,-2.5!')\n",
    "graph.node('5', f'<<b>5</b>>', shape='none', pos='4.2,-2.2!')\n",
    "\n",
    "finalmaskresized_image_path = resize_image_to_png(figpath + finalmask_name, 30, figpath + 'finalmask_resized')\n",
    "node_k_label = f'<<TABLE BORDER=\"0\" CELLBORDER=\"0\" CELLPADDING=\"1\" CELLSPACING=\"0\"><TR><TD><IMG SRC=\"{finalmaskresized_image_path}\"/></TD></TR><TR><TD ALIGN=\"CENTER\">Final mask with SSS</TD></TR></TABLE>>'\n",
    "graph.node('K', label=node_k_label, shape='none', pos='2,-2.5!')\n",
    "\n",
    "# Add edges between nodes\n",
    "graph.edge('A', 'B', label='', constraint='false')\n",
    "graph.edge('B', 'C', dir='forward', label='', constraint='false')\n",
    "graph.edge('C', 'D', label='', constraint='false')\n",
    "graph.edge('D', 'E', dir='forward', label='', constraint='false')\n",
    "graph.edge('E', 'F',  label='', constraint='false')\n",
    "graph.edge('F', 'G', dir='forward', label='', constraint='false')\n",
    "graph.edge('G', 'H',  label='', constraint='false')\n",
    "graph.edge('C', 'J',  label='', constraint='false')\n",
    "graph.edge('I', 'J',  label='', constraint='false')\n",
    "graph.edge('H', 'I', dir='forward', label='', constraint='false')\n",
    "graph.edge('J', 'K', dir='forward', label='', constraint='false')\n",
    "\n",
    "# Attributes\n",
    "graph.attr(dpi='300', bgcolor='white', forcelabels='true')\n",
    "\n",
    "# Render the graph\n",
    "graph.render(figpath + 'example_graph', format='png', engine='neato', cleanup=True)\n",
    "\n",
    "from IPython.display import Image as Ipmage\n",
    "from IPython.display import display\n",
    "from io import BytesIO\n",
    "\n",
    "# Render the graph to a BytesIO object\n",
    "png_bytes = graph.pipe(format='png')\n",
    "\n",
    "# Display the graph using IPython.display\n",
    "display(Ipmage(png_bytes))"
   ],
   "id": "cell-fig-graph"
  }
 ],
 "nbformat": 4,
 "nbformat_minor": 5,
 "metadata": {}
}
